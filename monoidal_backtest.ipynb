{
 "cells": [
  {
   "cell_type": "code",
   "execution_count": 3,
   "metadata": {
    "collapsed": true
   },
   "outputs": [],
   "source": [
    "import pandas as pd\n",
    "from dataclasses import dataclass, field"
   ]
  },
  {
   "cell_type": "markdown",
   "metadata": {},
   "source": [
    "# An algebraic backtesting framework\n",
    "\n",
    "## The position type\n",
    "\n",
    "The core of a general event-driven backtesting framework is either the *Position* or *Order* object, depending on timescales of interest, among other things. We will abstract this notion and define an abstract category of *Positions* and provide a minimal structure with which we can emulate trading activity. We begin first with a concrete implementation of the base *Position* type:"
   ]
  },
  {
   "cell_type": "code",
   "execution_count": 4,
   "metadata": {},
   "outputs": [],
   "source": [
    "pdts = pd.Timestamp\n",
    "@dataclass\n",
    "class Position:\n",
    "    ticker_symbol: str\n",
    "    init_date: str or None\n",
    "    shares: float\n",
    "    roll_date : None = None\n",
    "    id: int = field(default=-1, repr=False)\n",
    "    def __post_init__(self):\n",
    "        if not pdts(self.init_date).dayofweek < 5:\n",
    "            raise Exception(f'{self.init_date} is a weekend')\n",
    "    @property\n",
    "    def is_open(self):\n",
    "        if self.shares == 0:\n",
    "            return False\n",
    "        else:\n",
    "            return True\n",
    "    def __str__(self):\n",
    "        return f\"Position(Ticker: {self.ticker_symbol}, Shares: {self.shares}, \"\\\n",
    "                   f\"InitDate: {self.init_date}, RollDate: {self.roll_date})\"\n",
    "    def __bool__(self):\n",
    "        return self.is_open\n",
    "    def __hash__(self):\n",
    "        self.id = hash((self.ticker_symbol, self.init_date))\n",
    "        return self.id"
   ]
  },
  {
   "cell_type": "markdown",
   "source": [
    "Objects belonging to this dataclass are defined by a symbol and an entry date, as far as the ``__hash__`` method is concerned. Though abstractly, the category of *Positions* contain the tuple (symbol, entry date, size, roll date) as objects. Morphisms are defined as updates of the latter two tuple entries obeying some obvious causality and conservation rules. In fact, what is natural is to give this category a monoidal structure defined by the binary"
   ],
   "metadata": {
    "collapsed": false,
    "pycharm": {
     "name": "#%% md\n"
    }
   }
  },
  {
   "cell_type": "markdown",
   "metadata": {},
   "source": []
  }
 ],
 "metadata": {
  "kernelspec": {
   "display_name": "Python 3",
   "language": "python",
   "name": "python3"
  },
  "language_info": {
   "codemirror_mode": {
    "name": "ipython",
    "version": 3
   },
   "file_extension": ".py",
   "mimetype": "text/x-python",
   "name": "python",
   "nbconvert_exporter": "python",
   "pygments_lexer": "ipython3",
   "version": "3.9.5"
  }
 },
 "nbformat": 4,
 "nbformat_minor": 0
}